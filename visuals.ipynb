{
 "cells": [
  {
   "cell_type": "code",
   "execution_count": 1,
   "metadata": {},
   "outputs": [],
   "source": [
    "from ipywidgets import interact, interact_manual\n",
    "from nltk.corpus import stopwords\n",
    "import matplotlib.pyplot as plt\n",
    "import pandas as pd\n",
    "import numpy as np\n",
    "import folium\n",
    "import json\n",
    "import re"
   ]
  },
  {
   "cell_type": "markdown",
   "metadata": {},
   "source": [
    "## New York Cuisine Map"
   ]
  },
  {
   "cell_type": "code",
   "execution_count": 2,
   "metadata": {},
   "outputs": [],
   "source": [
    "df_zip3 = pd.read_csv('cuisine_density_differences.csv', index_col=0)"
   ]
  },
  {
   "cell_type": "code",
   "execution_count": 32,
   "metadata": {},
   "outputs": [],
   "source": [
    "df_zip3.loc[:, 'postalCode'] = df_zip3['postalCode'].astype(str)\n",
    "df_zip3.iloc[:, :50] = df_zip3.iloc[:, :50].clip(-1, 1)"
   ]
  },
  {
   "cell_type": "code",
   "execution_count": 9,
   "metadata": {},
   "outputs": [],
   "source": [
    "ny_zips_url = \\\n",
    "    'https://raw.githubusercontent.com/fedhere/PUI2015_EC/master/mam1612_EC/nyc-zip-code-tabulation-areas-polygons.geojson'\n",
    "NY_COORDINATES = (40.7127753, -74.0059728)"
   ]
  },
  {
   "cell_type": "code",
   "execution_count": 36,
   "metadata": {},
   "outputs": [],
   "source": [
    "def draw_map(cuisine_name):\n",
    "    ny_map = folium.Map(location=NY_COORDINATES, tiles='OpenStreetMap', zoom_start=11)\n",
    "    chloropleth = folium.Choropleth(\n",
    "        geo_data=ny_zips_url,\n",
    "        name='choropleth',\n",
    "        data=df_zip3,\n",
    "        columns=['postalCode', cuisine_name],  # columns of dataframe in df_zip3\n",
    "        key_on='feature.properties.postalCode',  # refers to the data in ny_zips\n",
    "        fill_color='RdBu', \n",
    "        fill_opacity=0.7,\n",
    "        line_opacity=0.2,\n",
    "        legend_name='Restaurant density difference'\n",
    "    ).add_to(ny_map)\n",
    "    chloropleth.geojson.add_child(folium.features.GeoJsonTooltip(['PO_NAME', 'postalCode']))\n",
    "    return ny_map"
   ]
  },
  {
   "cell_type": "code",
   "execution_count": 38,
   "metadata": {},
   "outputs": [
    {
     "data": {
      "application/vnd.jupyter.widget-view+json": {
       "model_id": "7a9ed197b9ba4e65801d8b55acf77ff1",
       "version_major": 2,
       "version_minor": 0
      },
      "text/plain": [
       "interactive(children=(Dropdown(description='cuisine_name', options=('sandwiches', 'pizza', 'asian', 'salads', …"
      ]
     },
     "metadata": {},
     "output_type": "display_data"
    },
    {
     "data": {
      "text/plain": [
       "<function __main__.draw_map(cuisine_name)>"
      ]
     },
     "execution_count": 38,
     "metadata": {},
     "output_type": "execute_result"
    }
   ],
   "source": [
    "interact(draw_map, cuisine_name=list(df_zip3.columns[:50]))"
   ]
  },
  {
   "cell_type": "code",
   "execution_count": null,
   "metadata": {},
   "outputs": [],
   "source": []
  },
  {
   "cell_type": "markdown",
   "metadata": {},
   "source": [
    "## New York Menu Prices"
   ]
  },
  {
   "cell_type": "code",
   "execution_count": 16,
   "metadata": {},
   "outputs": [],
   "source": [
    "er = pd.read_csv('menu_items2.csv', index_col=0).dropna()"
   ]
  },
  {
   "cell_type": "code",
   "execution_count": 49,
   "metadata": {},
   "outputs": [],
   "source": [
    "# clean_stopwords = set([re.sub('[^a-z]', '', w) for w in stopwords.words('English')])\n",
    "\n",
    "def clean(w):\n",
    "    return set(re.sub('[^a-z ]', '', w.lower()).strip().split(' ')) #- clean_stopwords"
   ]
  },
  {
   "cell_type": "code",
   "execution_count": 50,
   "metadata": {},
   "outputs": [],
   "source": [
    "er['product_description_clean'] = er['product_description'].apply(clean)"
   ]
  },
  {
   "cell_type": "code",
   "execution_count": 51,
   "metadata": {},
   "outputs": [],
   "source": [
    "def item_price_dist(item_name):\n",
    "    item_name_set = clean(item_name)\n",
    "    item_name_jacc_sim = (er['product_description_clean'].apply(lambda x: item_name_set & x).apply(len) / len(item_name_set))\n",
    "    item_prices = er[item_name_jacc_sim == item_name_jacc_sim.max()]['item_price_minus_add_ons']\n",
    "    item_prices = item_prices[(item_prices < 50) & (item_prices > 0)]\n",
    "    item_prices.plot.hist(figsize=(12, 4), \n",
    "                          bins=np.arange(np.floor(item_prices.min())-0.5, np.ceil(item_prices.max())+0.5), \n",
    "                          density=True)\n",
    "    plt.xlabel('Price ($)')\n",
    "    plt.title(f'{item_name} Price Distribution')\n",
    "    plt.show()"
   ]
  },
  {
   "cell_type": "code",
   "execution_count": 52,
   "metadata": {},
   "outputs": [
    {
     "data": {
      "application/vnd.jupyter.widget-view+json": {
       "model_id": "a9584a61c6a141a0ac965d16e4e111bd",
       "version_major": 2,
       "version_minor": 0
      },
      "text/plain": [
       "interactive(children=(Text(value='Massaman Curry', description='item_name'), Button(description='Run Interact'…"
      ]
     },
     "metadata": {},
     "output_type": "display_data"
    },
    {
     "data": {
      "text/plain": [
       "<function __main__.item_price_dist(item_name)>"
      ]
     },
     "execution_count": 52,
     "metadata": {},
     "output_type": "execute_result"
    }
   ],
   "source": [
    "interact_manual(item_price_dist, item_name='Massaman Curry')"
   ]
  },
  {
   "cell_type": "code",
   "execution_count": null,
   "metadata": {},
   "outputs": [],
   "source": []
  },
  {
   "cell_type": "code",
   "execution_count": null,
   "metadata": {},
   "outputs": [],
   "source": []
  }
 ],
 "metadata": {
  "kernelspec": {
   "display_name": "Python 3",
   "language": "python",
   "name": "python3"
  },
  "language_info": {
   "codemirror_mode": {
    "name": "ipython",
    "version": 3
   },
   "file_extension": ".py",
   "mimetype": "text/x-python",
   "name": "python",
   "nbconvert_exporter": "python",
   "pygments_lexer": "ipython3",
   "version": "3.7.6"
  }
 },
 "nbformat": 4,
 "nbformat_minor": 4
}
